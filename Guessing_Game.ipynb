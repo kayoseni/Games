{
 "cells": [
  {
   "cell_type": "markdown",
   "metadata": {},
   "source": [
    "### Guessing Game"
   ]
  },
  {
   "cell_type": "code",
   "execution_count": null,
   "metadata": {},
   "outputs": [],
   "source": [
    "import random\n",
    "\n",
    "secret_number = random.randint(1, 10)\n",
    "\n",
    "number_of_guesses = 0\n",
    "number_of_tries = 3\n",
    "game = True \n",
    "\n",
    "name = input('Enter your name: ')\n",
    "print('Hello ' + name.title() + '. \\nWelcome to the Guessing Game. You have 3 tries to guess the number I am thinking about.')\n",
    "\n",
    "while game == True: \n",
    "    \n",
    "    request_to_play = input('Would you like to play? (y/n): ')\n",
    "    \n",
    "    if request_to_play == 'y':\n",
    "        print('Great!')\n",
    "        print(\"Here's a clue. The number is between 1 and 10\")\n",
    "\n",
    "        while number_of_guesses < 3 and request_to_play == 'y':\n",
    "            number_of_guesses += 1\n",
    "            number_of_tries -= 1\n",
    "\n",
    "            guess = int(input(\"Guess a number: \"))\n",
    "                \n",
    "            if guess > secret_number:\n",
    "                print('Your number is too high')\n",
    "                print('You have ' + str(number_of_tries) + ' tries left.')\n",
    "\n",
    "            elif guess < secret_number:\n",
    "                    print('Your number is too low.')\n",
    "                    print('You have ' + str(number_of_tries) + ' tries left.')\n",
    "\n",
    "            else:\n",
    "                break\n",
    "    \n",
    "        if guess == secret_number and number_of_guesses == 1:\n",
    "            print('Congrats!!! You won after ' + str(number_of_guesses) + ' guess! \\nThanks for playing.')\n",
    "        elif guess == secret_number and number_of_guesses > 1:\n",
    "            print('Congrats!!! You won after ' + str(number_of_guesses) + ' guesses! \\nThanks for playing.')\n",
    "        else:\n",
    "             print('Game Over!')\n",
    "\n",
    "        if request_to_play == 'n':\n",
    "             print('Sorry to see you leave.')\n",
    "        break\n",
    "\n",
    "        \n",
    "    else:\n",
    "        print('Sorry, that is not a valid response')\n",
    "        continue\n",
    "\n"
   ]
  }
 ],
 "metadata": {
  "kernelspec": {
   "display_name": "Python 3",
   "language": "python",
   "name": "python3"
  },
  "language_info": {
   "codemirror_mode": {
    "name": "ipython",
    "version": 3
   },
   "file_extension": ".py",
   "mimetype": "text/x-python",
   "name": "python",
   "nbconvert_exporter": "python",
   "pygments_lexer": "ipython3",
   "version": "3.7.4"
  }
 },
 "nbformat": 4,
 "nbformat_minor": 2
}
